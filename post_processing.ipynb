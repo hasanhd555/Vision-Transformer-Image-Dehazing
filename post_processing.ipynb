{
 "cells": [
  {
   "cell_type": "code",
   "execution_count": 5,
   "metadata": {},
   "outputs": [
    {
     "name": "stdout",
     "output_type": "stream",
     "text": [
      "c:\\Users\\hasan\\OneDrive\\Documents\\GitHub\\Vision-Transformer-Image-Dehazing-hasanhd555\\Vision\\data\\Outdoor\\test\\hazy\n"
     ]
    },
    {
     "data": {
      "text/plain": [
       "'c:\\\\Users\\\\hasan\\\\OneDrive\\\\Documents\\\\GitHub\\\\Vision-Transformer-Image-Dehazing-hasanhd555\\\\Vision\\\\data\\\\Outdoor\\\\test\\\\hazy'"
      ]
     },
     "execution_count": 5,
     "metadata": {},
     "output_type": "execute_result"
    }
   ],
   "source": [
    "%pwd\n",
    "%cd Vision/data/Outdoor/test/hazy/\n",
    "%pwd\n"
   ]
  },
  {
   "cell_type": "code",
   "execution_count": 9,
   "metadata": {},
   "outputs": [],
   "source": [
    "import cv2\n",
    "import numpy as np\n",
    "\n",
    "def post_process_image(image, blur_kernel_size=(5, 5), sharpen_strength=1.5, contrast_alpha=1.5, contrast_beta=0):\n",
    "    # Apply Gaussian blur\n",
    "    blurred_image = cv2.GaussianBlur(image, blur_kernel_size, 0)\n",
    "\n",
    "    # Apply sharpening\n",
    "    sharpened_image = cv2.addWeighted(image, 1 + sharpen_strength, blurred_image, -sharpen_strength, 0)\n",
    "\n",
    "    # Apply contrast enhancement\n",
    "    enhanced_image = cv2.convertScaleAbs(sharpened_image, alpha=contrast_alpha, beta=contrast_beta)\n",
    "\n",
    "    return enhanced_image\n"
   ]
  },
  {
   "cell_type": "code",
   "execution_count": 12,
   "metadata": {},
   "outputs": [],
   "source": [
    "\n",
    "# Example usage:\n",
    "input_image = cv2.imread(\"03.png\")\n",
    "processed_image = post_process_image(input_image,sharpen_strength=1,contrast_alpha=1)\n",
    "\n",
    "# Display the original and processed images\n",
    "cv2.imshow(\"Original Image\", input_image)\n",
    "cv2.imshow(\"Processed Image\", processed_image)\n",
    "cv2.waitKey(0)\n",
    "cv2.destroyAllWindows()\n"
   ]
  }
 ],
 "metadata": {
  "kernelspec": {
   "display_name": "Python 3",
   "language": "python",
   "name": "python3"
  },
  "language_info": {
   "codemirror_mode": {
    "name": "ipython",
    "version": 3
   },
   "file_extension": ".py",
   "mimetype": "text/x-python",
   "name": "python",
   "nbconvert_exporter": "python",
   "pygments_lexer": "ipython3",
   "version": "3.11.5"
  }
 },
 "nbformat": 4,
 "nbformat_minor": 2
}
