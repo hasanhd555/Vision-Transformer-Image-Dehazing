{
 "cells": [
  {
   "cell_type": "code",
   "execution_count": 10,
   "metadata": {},
   "outputs": [],
   "source": [
    "from datasets.loader import PairLoader\n",
    "from torch.utils.data import DataLoader\n",
    "import os\n",
    "\n",
    "dataset_dir = os.path.join('./data/', \"Outdoor\")\n",
    "\n",
    "test_dataset = PairLoader(dataset_dir, 'test', 'test')\n",
    "test_loader = DataLoader(test_dataset,\n",
    "\t\t\t\t\t\t\t batch_size=1,\n",
    "\t\t\t\t\t\t\t num_workers=2,\n",
    "\t\t\t\t\t\t\t pin_memory=True)"
   ]
  },
  {
   "cell_type": "code",
   "execution_count": 11,
   "metadata": {},
   "outputs": [],
   "source": [
    "#load the first image pair\n",
    "import cv2\n",
    "import numpy as np\n",
    "\n",
    "for i, data in enumerate(test_loader):\n",
    "    img1, img2, disp = data\n",
    "    img1=data[\"source\"]\n",
    "    img2=data[\"target\"]\n",
    "    img1 = img1.numpy().squeeze().transpose(1,2,0)\n",
    "    img2 = img2.numpy().squeeze().transpose(1,2,0)\n",
    "    disp = data[\"filename\"][0]\n",
    "    cv2.imshow('img1', img1)\n",
    "    cv2.imshow('img2', img2)\n",
    "    #cv2.imshow('disp', disp)\n",
    "    cv2.waitKey(0)\n",
    "    break\n",
    "\n",
    "\n"
   ]
  },
  {
   "cell_type": "code",
   "execution_count": null,
   "metadata": {},
   "outputs": [],
   "source": []
  }
 ],
 "metadata": {
  "kernelspec": {
   "display_name": "Python 3",
   "language": "python",
   "name": "python3"
  },
  "language_info": {
   "codemirror_mode": {
    "name": "ipython",
    "version": 3
   },
   "file_extension": ".py",
   "mimetype": "text/x-python",
   "name": "python",
   "nbconvert_exporter": "python",
   "pygments_lexer": "ipython3",
   "version": "3.11.5"
  }
 },
 "nbformat": 4,
 "nbformat_minor": 2
}
