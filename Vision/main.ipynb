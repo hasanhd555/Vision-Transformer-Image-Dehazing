{
 "cells": [
  {
   "cell_type": "code",
   "execution_count": 1,
   "metadata": {},
   "outputs": [
    {
     "data": {
      "text/plain": [
       "[<git.remote.FetchInfo at 0x1ea82088e00>,\n",
       " <git.remote.FetchInfo at 0x1ea82088ef0>]"
      ]
     },
     "execution_count": 1,
     "metadata": {},
     "output_type": "execute_result"
    }
   ],
   "source": [
    "# !pip install GitPython\n",
    "from git import Repo\n",
    "\n",
    "repo_url = 'https://github.com/IDKiro/DehazeFormer'\n",
    "\n",
    "# Directory where you want to clone the repository\n",
    "clone_directory = './'\n",
    "\n",
    "# Repo.clone_from(repo_url, clone_directory)\n",
    "\n",
    "# Optionally, you can pull the latest changes\n",
    "repo = Repo(clone_directory)\n",
    "repo.remotes.origin.pull()"
   ]
  },
  {
   "cell_type": "code",
   "execution_count": 1,
   "metadata": {},
   "outputs": [],
   "source": [
    "import os\n",
    "import shutil\n",
    "import random\n",
    "\n",
    "# Define paths\n",
    "data_dir = \"data/NH-HAZE\"\n",
    "train_dir = \"data/NH-HAZE/train\"\n",
    "test_dir = \"data/NH-HAZE/test\"\n",
    "\n",
    "# Create train and test directories\n",
    "os.makedirs(train_dir, exist_ok=True)\n",
    "os.makedirs(test_dir, exist_ok=True)\n",
    "\n",
    "# Create GT and hazy subdirectories inside train and test directories\n",
    "for directory in [train_dir, test_dir]:\n",
    "    os.makedirs(os.path.join(directory, \"GT\"), exist_ok=True)\n",
    "    os.makedirs(os.path.join(directory, \"hazy\"), exist_ok=True)\n",
    "\n",
    "# Move images into GT and hazy subdirectories\n",
    "for i in range(1, 56):\n",
    "    gt_filename = f\"{i:02d}_GT.png\"\n",
    "    hazy_filename = f\"{i:02d}_hazy.png\"\n",
    "    \n",
    "    # Determine whether the image should be in train or test set\n",
    "    if random.random() < 0.8:  # 80% train, 20% test\n",
    "        dest_dir = train_dir\n",
    "    else:\n",
    "        dest_dir = test_dir\n",
    "\n",
    "    # Move GT image\n",
    "    shutil.move(os.path.join(data_dir, gt_filename), os.path.join(dest_dir, \"GT\", gt_filename))\n",
    "    # Move hazy image\n",
    "    shutil.move(os.path.join(data_dir, hazy_filename), os.path.join(dest_dir, \"hazy\", hazy_filename))\n"
   ]
  }
 ],
 "metadata": {
  "kernelspec": {
   "display_name": "Python 3",
   "language": "python",
   "name": "python3"
  },
  "language_info": {
   "codemirror_mode": {
    "name": "ipython",
    "version": 3
   },
   "file_extension": ".py",
   "mimetype": "text/x-python",
   "name": "python",
   "nbconvert_exporter": "python",
   "pygments_lexer": "ipython3",
   "version": "3.12.1"
  }
 },
 "nbformat": 4,
 "nbformat_minor": 2
}
