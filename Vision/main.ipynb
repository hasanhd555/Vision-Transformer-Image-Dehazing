{
 "cells": [
  {
   "cell_type": "code",
   "execution_count": 8,
   "metadata": {},
   "outputs": [
    {
     "ename": "InvalidGitRepositoryError",
     "evalue": "c:\\Users\\Hp\\OneDrive - Higher Education Commission\\Desktop\\Year3\\DL\\Project\\Vision Transformer\\Vision-Transformer-Image-Dehazing\\Vision",
     "output_type": "error",
     "traceback": [
      "\u001b[1;31m---------------------------------------------------------------------------\u001b[0m",
      "\u001b[1;31mInvalidGitRepositoryError\u001b[0m                 Traceback (most recent call last)",
      "Cell \u001b[1;32mIn[8], line 12\u001b[0m\n\u001b[0;32m      7\u001b[0m clone_directory \u001b[38;5;241m=\u001b[39m \u001b[38;5;124m'\u001b[39m\u001b[38;5;124m./\u001b[39m\u001b[38;5;124m'\u001b[39m\n\u001b[0;32m      9\u001b[0m \u001b[38;5;66;03m# Repo.clone_from(repo_url, clone_directory)\u001b[39;00m\n\u001b[0;32m     10\u001b[0m \n\u001b[0;32m     11\u001b[0m \u001b[38;5;66;03m# Optionally, you can pull the latest changes\u001b[39;00m\n\u001b[1;32m---> 12\u001b[0m repo \u001b[38;5;241m=\u001b[39m \u001b[43mRepo\u001b[49m\u001b[43m(\u001b[49m\u001b[43mclone_directory\u001b[49m\u001b[43m)\u001b[49m\n\u001b[0;32m     13\u001b[0m repo\u001b[38;5;241m.\u001b[39mremotes\u001b[38;5;241m.\u001b[39morigin\u001b[38;5;241m.\u001b[39mpull()\n\u001b[0;32m     16\u001b[0m \u001b[38;5;28;01mimport\u001b[39;00m \u001b[38;5;21;01mshutil\u001b[39;00m\n",
      "File \u001b[1;32mc:\\Users\\Hp\\AppData\\Local\\Programs\\Python\\Python312\\Lib\\site-packages\\git\\repo\\base.py:276\u001b[0m, in \u001b[0;36mRepo.__init__\u001b[1;34m(self, path, odbt, search_parent_directories, expand_vars)\u001b[0m\n\u001b[0;32m    273\u001b[0m \u001b[38;5;66;03m# END while curpath\u001b[39;00m\n\u001b[0;32m    275\u001b[0m \u001b[38;5;28;01mif\u001b[39;00m git_dir \u001b[38;5;129;01mis\u001b[39;00m \u001b[38;5;28;01mNone\u001b[39;00m:\n\u001b[1;32m--> 276\u001b[0m     \u001b[38;5;28;01mraise\u001b[39;00m InvalidGitRepositoryError(epath)\n\u001b[0;32m    277\u001b[0m \u001b[38;5;28mself\u001b[39m\u001b[38;5;241m.\u001b[39mgit_dir \u001b[38;5;241m=\u001b[39m git_dir\n\u001b[0;32m    279\u001b[0m \u001b[38;5;28mself\u001b[39m\u001b[38;5;241m.\u001b[39m_bare \u001b[38;5;241m=\u001b[39m \u001b[38;5;28;01mFalse\u001b[39;00m\n",
      "\u001b[1;31mInvalidGitRepositoryError\u001b[0m: c:\\Users\\Hp\\OneDrive - Higher Education Commission\\Desktop\\Year3\\DL\\Project\\Vision Transformer\\Vision-Transformer-Image-Dehazing\\Vision"
     ]
    }
   ],
   "source": [
    "# # !pip install GitPython\n",
    "# from git import Repo\n",
    "\n",
    "# repo_url = 'https://github.com/IDKiro/DehazeFormer'\n",
    "\n",
    "# # Directory where you want to clone the repository\n",
    "# clone_directory = './'\n",
    "\n",
    "# Repo.clone_from(repo_url, clone_directory)\n",
    "\n",
    "# Optionally, you can pull the latest changes\n",
    "# repo = Repo(clone_directory)\n",
    "# repo.remotes.origin.pull()\n",
    "\n",
    "\n",
    "import shutil\n",
    "import os\n",
    "\n",
    "# Path to the directory containing the .git folder\n",
    "directory_path = './'\n",
    "\n",
    "# Delete the .git folder\n",
    "git_folder_path = os.path.join(directory_path, '.git')\n",
    "shutil.rmtree(git_folder_path)\n",
    "\n",
    "print(\".git folder deleted successfully.\")\n"
   ]
  },
  {
   "cell_type": "code",
   "execution_count": 1,
   "metadata": {},
   "outputs": [],
   "source": [
    "import os\n",
    "import shutil\n",
    "import random\n",
    "\n",
    "# Define paths\n",
    "data_dir = \"data/NH-HAZE\"\n",
    "train_dir = \"data/NH-HAZE/train\"\n",
    "test_dir = \"data/NH-HAZE/test\"\n",
    "\n",
    "# Create train and test directories\n",
    "os.makedirs(train_dir, exist_ok=True)\n",
    "os.makedirs(test_dir, exist_ok=True)\n",
    "\n",
    "# Create GT and hazy subdirectories inside train and test directories\n",
    "for directory in [train_dir, test_dir]:\n",
    "    os.makedirs(os.path.join(directory, \"GT\"), exist_ok=True)\n",
    "    os.makedirs(os.path.join(directory, \"hazy\"), exist_ok=True)\n",
    "\n",
    "# Move images into GT and hazy subdirectories\n",
    "for i in range(1, 56):\n",
    "    gt_filename = f\"{i:02d}_GT.png\"\n",
    "    hazy_filename = f\"{i:02d}_hazy.png\"\n",
    "    \n",
    "    # Determine whether the image should be in train or test set\n",
    "    if random.random() < 0.8:  # 80% train, 20% test\n",
    "        dest_dir = train_dir\n",
    "    else:\n",
    "        dest_dir = test_dir\n",
    "\n",
    "    # Move GT image\n",
    "    shutil.move(os.path.join(data_dir, gt_filename), os.path.join(dest_dir, \"GT\", gt_filename))\n",
    "    # Move hazy image\n",
    "    shutil.move(os.path.join(data_dir, hazy_filename), os.path.join(dest_dir, \"hazy\", hazy_filename))\n"
   ]
  },
  {
   "cell_type": "code",
   "execution_count": 7,
   "metadata": {},
   "outputs": [
    {
     "name": "stdout",
     "output_type": "stream",
     "text": [
      "Renamed 03_hazy.png to 03_.png\n",
      "Renamed 19_hazy.png to 19_.png\n",
      "Renamed 20_hazy.png to 20_.png\n",
      "Renamed 23_hazy.png to 23_.png\n",
      "Renamed 26_hazy.png to 26_.png\n",
      "Renamed 27_hazy.png to 27_.png\n",
      "Renamed 28_hazy.png to 28_.png\n",
      "Renamed 31_hazy.png to 31_.png\n",
      "Renamed 48_hazy.png to 48_.png\n"
     ]
    }
   ],
   "source": [
    "#File renaming since NH-HAZE has files name 001_GT.png and 001_hazy.png\n",
    "\n",
    "import os\n",
    "\n",
    "def rename_files(directory):\n",
    "    for filename in os.listdir(directory):\n",
    "        if \"GT\" in filename:\n",
    "            new_filename = filename.replace(\"GT\", \"\")\n",
    "            old_path = os.path.join(directory, filename)\n",
    "            new_path = os.path.join(directory, new_filename)\n",
    "            os.rename(old_path, new_path)\n",
    "            print(f\"Renamed {filename} to {new_filename}\")\n",
    "\n",
    "def rename_files2(directory):\n",
    "    for filename in os.listdir(directory):\n",
    "        if \"hazy\" in filename:\n",
    "            new_filename = filename.replace(\"hazy\", \"\")\n",
    "            old_path = os.path.join(directory, filename)\n",
    "            new_path = os.path.join(directory, new_filename)\n",
    "            os.rename(old_path, new_path)\n",
    "            print(f\"Renamed {filename} to {new_filename}\")\n",
    "# Replace 'directory_path' with the path to your directory containing the files\n",
    "directory_path = './data/NH-HAZE/test/GT'\n",
    "directory_path2 = './data/NH-HAZE/test/hazy'\n",
    "rename_files(directory_path)\n",
    "rename_files2(directory_path2)\n",
    "\n",
    "\n"
   ]
  }
 ],
 "metadata": {
  "kernelspec": {
   "display_name": "Python 3",
   "language": "python",
   "name": "python3"
  },
  "language_info": {
   "codemirror_mode": {
    "name": "ipython",
    "version": 3
   },
   "file_extension": ".py",
   "mimetype": "text/x-python",
   "name": "python",
   "nbconvert_exporter": "python",
   "pygments_lexer": "ipython3",
   "version": "3.12.1"
  }
 },
 "nbformat": 4,
 "nbformat_minor": 2
}
